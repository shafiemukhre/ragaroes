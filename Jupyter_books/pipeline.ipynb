{
 "cells": [
  {
   "cell_type": "code",
   "execution_count": 5,
   "metadata": {},
   "outputs": [
    {
     "name": "stdout",
     "output_type": "stream",
     "text": [
      "Requirement already satisfied: yfinance in /opt/homebrew/Caskroom/miniforge/base/lib/python3.9/site-packages (0.2.36)\n",
      "Requirement already satisfied: beautifulsoup4>=4.11.1 in /opt/homebrew/Caskroom/miniforge/base/lib/python3.9/site-packages (from yfinance) (4.12.3)\n",
      "Requirement already satisfied: pytz>=2022.5 in /opt/homebrew/Caskroom/miniforge/base/lib/python3.9/site-packages (from yfinance) (2023.3.post1)\n",
      "Requirement already satisfied: requests>=2.31 in /opt/homebrew/Caskroom/miniforge/base/lib/python3.9/site-packages (from yfinance) (2.31.0)\n",
      "Requirement already satisfied: pandas>=1.3.0 in /opt/homebrew/Caskroom/miniforge/base/lib/python3.9/site-packages (from yfinance) (2.2.0)\n",
      "Requirement already satisfied: peewee>=3.16.2 in /opt/homebrew/Caskroom/miniforge/base/lib/python3.9/site-packages (from yfinance) (3.17.0)\n",
      "Requirement already satisfied: numpy>=1.16.5 in /opt/homebrew/Caskroom/miniforge/base/lib/python3.9/site-packages (from yfinance) (1.26.2)\n",
      "Requirement already satisfied: frozendict>=2.3.4 in /opt/homebrew/Caskroom/miniforge/base/lib/python3.9/site-packages (from yfinance) (2.4.0)\n",
      "Requirement already satisfied: appdirs>=1.4.4 in /opt/homebrew/Caskroom/miniforge/base/lib/python3.9/site-packages (from yfinance) (1.4.4)\n",
      "Requirement already satisfied: multitasking>=0.0.7 in /opt/homebrew/Caskroom/miniforge/base/lib/python3.9/site-packages (from yfinance) (0.0.11)\n",
      "Requirement already satisfied: html5lib>=1.1 in /opt/homebrew/Caskroom/miniforge/base/lib/python3.9/site-packages (from yfinance) (1.1)\n",
      "Requirement already satisfied: lxml>=4.9.1 in /opt/homebrew/Caskroom/miniforge/base/lib/python3.9/site-packages (from yfinance) (5.1.0)\n",
      "Requirement already satisfied: soupsieve>1.2 in /opt/homebrew/Caskroom/miniforge/base/lib/python3.9/site-packages (from beautifulsoup4>=4.11.1->yfinance) (2.5)\n",
      "Requirement already satisfied: webencodings in /opt/homebrew/Caskroom/miniforge/base/lib/python3.9/site-packages (from html5lib>=1.1->yfinance) (0.5.1)\n",
      "Requirement already satisfied: six>=1.9 in /opt/homebrew/Caskroom/miniforge/base/lib/python3.9/site-packages (from html5lib>=1.1->yfinance) (1.16.0)\n",
      "Requirement already satisfied: python-dateutil>=2.8.2 in /opt/homebrew/Caskroom/miniforge/base/lib/python3.9/site-packages (from pandas>=1.3.0->yfinance) (2.8.2)\n",
      "Requirement already satisfied: tzdata>=2022.7 in /opt/homebrew/Caskroom/miniforge/base/lib/python3.9/site-packages (from pandas>=1.3.0->yfinance) (2023.3)\n",
      "Requirement already satisfied: certifi>=2017.4.17 in /opt/homebrew/Caskroom/miniforge/base/lib/python3.9/site-packages (from requests>=2.31->yfinance) (2023.11.17)\n",
      "Requirement already satisfied: urllib3<3,>=1.21.1 in /opt/homebrew/Caskroom/miniforge/base/lib/python3.9/site-packages (from requests>=2.31->yfinance) (1.26.11)\n",
      "Requirement already satisfied: charset-normalizer<4,>=2 in /opt/homebrew/Caskroom/miniforge/base/lib/python3.9/site-packages (from requests>=2.31->yfinance) (2.1.0)\n",
      "Requirement already satisfied: idna<4,>=2.5 in /opt/homebrew/Caskroom/miniforge/base/lib/python3.9/site-packages (from requests>=2.31->yfinance) (3.3)\n",
      "Requirement already satisfied: duckduckgo_search in /opt/homebrew/Caskroom/miniforge/base/lib/python3.9/site-packages (4.4)\n",
      "Requirement already satisfied: nest-asyncio>=1.6.0 in /opt/homebrew/Caskroom/miniforge/base/lib/python3.9/site-packages (from duckduckgo_search) (1.6.0)\n",
      "Requirement already satisfied: lxml>=4.9.3 in /opt/homebrew/Caskroom/miniforge/base/lib/python3.9/site-packages (from duckduckgo_search) (5.1.0)\n",
      "Requirement already satisfied: curl-cffi>=0.6.0b7 in /opt/homebrew/Caskroom/miniforge/base/lib/python3.9/site-packages (from duckduckgo_search) (0.6.0b9)\n",
      "Requirement already satisfied: docstring-inheritance>=2.1.2 in /opt/homebrew/Caskroom/miniforge/base/lib/python3.9/site-packages (from duckduckgo_search) (2.1.2)\n",
      "Requirement already satisfied: click>=8.1.7 in /opt/homebrew/Caskroom/miniforge/base/lib/python3.9/site-packages (from duckduckgo_search) (8.1.7)\n",
      "Requirement already satisfied: cffi>=1.12.0 in /opt/homebrew/Caskroom/miniforge/base/lib/python3.9/site-packages (from curl-cffi>=0.6.0b7->duckduckgo_search) (1.15.1)\n",
      "Requirement already satisfied: certifi in /opt/homebrew/Caskroom/miniforge/base/lib/python3.9/site-packages (from curl-cffi>=0.6.0b7->duckduckgo_search) (2023.11.17)\n",
      "Requirement already satisfied: pycparser in /opt/homebrew/Caskroom/miniforge/base/lib/python3.9/site-packages (from cffi>=1.12.0->curl-cffi>=0.6.0b7->duckduckgo_search) (2.21)\n",
      "Requirement already satisfied: datetime in /opt/homebrew/Caskroom/miniforge/base/lib/python3.9/site-packages (5.4)\n",
      "Requirement already satisfied: zope.interface in /opt/homebrew/Caskroom/miniforge/base/lib/python3.9/site-packages (from datetime) (6.1)\n",
      "Requirement already satisfied: pytz in /opt/homebrew/Caskroom/miniforge/base/lib/python3.9/site-packages (from datetime) (2023.3.post1)\n",
      "Requirement already satisfied: setuptools in /opt/homebrew/Caskroom/miniforge/base/lib/python3.9/site-packages (from zope.interface->datetime) (63.2.0)\n"
     ]
    }
   ],
   "source": [
    "!pip install yfinance\n",
    "!pip install duckduckgo_search\n",
    "!pip install datetime"
   ]
  },
  {
   "cell_type": "code",
   "execution_count": 17,
   "metadata": {},
   "outputs": [
    {
     "name": "stderr",
     "output_type": "stream",
     "text": [
      "/opt/homebrew/Caskroom/miniforge/base/lib/python3.9/site-packages/yfinance/utils.py:775: FutureWarning: The 'unit' keyword in TimedeltaIndex construction is deprecated and will be removed in a future version. Use pd.to_timedelta instead.\n",
      "  df.index += _pd.TimedeltaIndex(dst_error_hours, 'h')\n",
      "/opt/homebrew/Caskroom/miniforge/base/lib/python3.9/site-packages/yfinance/utils.py:775: FutureWarning: The 'unit' keyword in TimedeltaIndex construction is deprecated and will be removed in a future version. Use pd.to_timedelta instead.\n",
      "  df.index += _pd.TimedeltaIndex(dst_error_hours, 'h')\n",
      "/opt/homebrew/Caskroom/miniforge/base/lib/python3.9/site-packages/yfinance/utils.py:775: FutureWarning: The 'unit' keyword in TimedeltaIndex construction is deprecated and will be removed in a future version. Use pd.to_timedelta instead.\n",
      "  df.index += _pd.TimedeltaIndex(dst_error_hours, 'h')\n",
      "/opt/homebrew/Caskroom/miniforge/base/lib/python3.9/site-packages/yfinance/utils.py:775: FutureWarning: The 'unit' keyword in TimedeltaIndex construction is deprecated and will be removed in a future version. Use pd.to_timedelta instead.\n",
      "  df.index += _pd.TimedeltaIndex(dst_error_hours, 'h')\n",
      "/opt/homebrew/Caskroom/miniforge/base/lib/python3.9/site-packages/yfinance/utils.py:775: FutureWarning: The 'unit' keyword in TimedeltaIndex construction is deprecated and will be removed in a future version. Use pd.to_timedelta instead.\n",
      "  df.index += _pd.TimedeltaIndex(dst_error_hours, 'h')\n",
      "/opt/homebrew/Caskroom/miniforge/base/lib/python3.9/site-packages/yfinance/utils.py:775: FutureWarning: The 'unit' keyword in TimedeltaIndex construction is deprecated and will be removed in a future version. Use pd.to_timedelta instead.\n",
      "  df.index += _pd.TimedeltaIndex(dst_error_hours, 'h')\n",
      "/opt/homebrew/Caskroom/miniforge/base/lib/python3.9/site-packages/yfinance/utils.py:775: FutureWarning: The 'unit' keyword in TimedeltaIndex construction is deprecated and will be removed in a future version. Use pd.to_timedelta instead.\n",
      "  df.index += _pd.TimedeltaIndex(dst_error_hours, 'h')\n",
      "/opt/homebrew/Caskroom/miniforge/base/lib/python3.9/site-packages/yfinance/utils.py:775: FutureWarning: The 'unit' keyword in TimedeltaIndex construction is deprecated and will be removed in a future version. Use pd.to_timedelta instead.\n",
      "  df.index += _pd.TimedeltaIndex(dst_error_hours, 'h')\n",
      "/opt/homebrew/Caskroom/miniforge/base/lib/python3.9/site-packages/yfinance/utils.py:775: FutureWarning: The 'unit' keyword in TimedeltaIndex construction is deprecated and will be removed in a future version. Use pd.to_timedelta instead.\n",
      "  df.index += _pd.TimedeltaIndex(dst_error_hours, 'h')\n",
      "/opt/homebrew/Caskroom/miniforge/base/lib/python3.9/site-packages/yfinance/utils.py:775: FutureWarning: The 'unit' keyword in TimedeltaIndex construction is deprecated and will be removed in a future version. Use pd.to_timedelta instead.\n",
      "  df.index += _pd.TimedeltaIndex(dst_error_hours, 'h')\n"
     ]
    }
   ],
   "source": [
    "import yfinance as yf\n",
    "from datetime import datetime\n",
    "tick_list = ['AAPL','META','MSFT','NVDA','TSLA','INTC','AMZN','GOOG','PYPL', 'ZG']\n",
    "\n",
    "for i in tick_list:\n",
    "    ticker = yf.Ticker(i)\n",
    "    end_date = datetime.now().strftime('%Y-%m-%d')\n",
    "    hist = ticker.history(start='2020-01-01',end=end_date)\n",
    "    hist.head()\n",
    "    name = f'/Users/parthjain/Desktop/project/ragaroes/Tickers/{i}.csv'\n",
    "    hist.to_csv(name)"
   ]
  },
  {
   "cell_type": "code",
   "execution_count": 18,
   "metadata": {},
   "outputs": [],
   "source": [
    "\n",
    "import requests\n",
    "from pathlib import Path\n",
    "\n",
    "year = ['2020', '2021', '2022', '2023']\n",
    "quater = ['First-Quarter','Second-Quarter','Third-Quarter','Fourth-Quarter']\n",
    "local_filename = \"/Users/parthjain/Desktop/project/ragaroes/pdf_files\"\n",
    "\n",
    "\n",
    "for i in year:\n",
    "    for j in quater:\n",
    "        url = f\"https://s21.q4cdn.com/399680738/files/doc_news/Meta-Reports-{j}-{i}-Results-{i}.pdf\"\n",
    "        r = requests.get(url, stream=True)\n",
    "        filename = Path(f'/Users/parthjain/Desktop/project/ragaroes/pdf_files/Meta-{j}-{i}.pdf')\n",
    "        filename.write_bytes(r.content)\n"
   ]
  },
  {
   "cell_type": "code",
   "execution_count": null,
   "metadata": {},
   "outputs": [],
   "source": []
  }
 ],
 "metadata": {
  "kernelspec": {
   "display_name": "base",
   "language": "python",
   "name": "python3"
  },
  "language_info": {
   "codemirror_mode": {
    "name": "ipython",
    "version": 3
   },
   "file_extension": ".py",
   "mimetype": "text/x-python",
   "name": "python",
   "nbconvert_exporter": "python",
   "pygments_lexer": "ipython3",
   "version": "3.9.13"
  }
 },
 "nbformat": 4,
 "nbformat_minor": 2
}
